{
  "nbformat": 4,
  "nbformat_minor": 0,
  "metadata": {
    "colab": {
      "provenance": []
    },
    "kernelspec": {
      "name": "python3",
      "display_name": "Python 3"
    },
    "language_info": {
      "name": "python"
    }
  },
  "cells": [
    {
      "cell_type": "code",
      "source": [
        "!unzip /content/Banana_Linux_NoVis.zip"
      ],
      "metadata": {
        "id": "sYpKo6RQCIpv"
      },
      "execution_count": null,
      "outputs": []
    },
    {
      "cell_type": "markdown",
      "source": [
        "**Project: Navigation DQN**"
      ],
      "metadata": {
        "id": "IP7tPMN4Vqvb"
      }
    },
    {
      "cell_type": "markdown",
      "source": [
        "**1. Start the Environment**"
      ],
      "metadata": {
        "id": "GUvdHVzPFdiE"
      }
    },
    {
      "cell_type": "code",
      "source": [
        "from unityagents import UnityEnvironment\n",
        "import matplotlib.pyplot as plt\n",
        "import numpy as np\n",
        "\n",
        "import random\n",
        "from collections import namedtuple, deque\n",
        "\n",
        "import torch\n",
        "import torch.nn.functional as F\n",
        "import torch.optim as optim"
      ],
      "metadata": {
        "id": "ShrL-0Ap57Wo"
      },
      "execution_count": 23,
      "outputs": []
    },
    {
      "cell_type": "code",
      "source": [
        "device = torch.device(\"cuda:0\" if torch.cuda.is_available() else \"cpu\")\n",
        "\n",
        "# please do not modify the line below\n",
        "env = UnityEnvironment(file_name=\"/content/Banana_Linux_NoVis/Banana.x86_64\")"
      ],
      "metadata": {
        "id": "sHWQjVSt6W-X"
      },
      "execution_count": 35,
      "outputs": []
    },
    {
      "cell_type": "markdown",
      "source": [
        "**2. Examine the State and Action Spaces**"
      ],
      "metadata": {
        "id": "lrh936bAFnht"
      }
    },
    {
      "cell_type": "code",
      "source": [
        "brain_name = env.brain_names[0]\n",
        "brain = env.brains[brain_name]\n",
        "\n",
        "# reset the environment\n",
        "env_info = env.reset(train_mode=True)[brain_name]\n",
        "\n",
        "# number of agents in the environment\n",
        "print('Number of agents:', len(env_info.agents))\n",
        "\n",
        "# number of actions\n",
        "action_size = brain.vector_action_space_size\n",
        "print('Number of actions:', action_size)\n",
        "\n",
        "# examine the state space\n",
        "state = env_info.vector_observations[0]\n",
        "print('States look like:', state)\n",
        "state_size = len(state)\n",
        "print('States have length:', state_size)"
      ],
      "metadata": {
        "colab": {
          "base_uri": "https://localhost:8080/"
        },
        "id": "FXhlsdLUEw2s",
        "outputId": "488e8ee6-c03e-4099-9a74-0f89982b0051"
      },
      "execution_count": 36,
      "outputs": [
        {
          "output_type": "stream",
          "name": "stdout",
          "text": [
            "Number of agents: 1\n",
            "Number of actions: 4\n",
            "States look like: [1.         0.         0.         0.         0.84408134 0.\n",
            " 0.         1.         0.         0.0748472  0.         1.\n",
            " 0.         0.         0.25755    1.         0.         0.\n",
            " 0.         0.74177343 0.         1.         0.         0.\n",
            " 0.25854847 0.         0.         1.         0.         0.09355672\n",
            " 0.         1.         0.         0.         0.31969345 0.\n",
            " 0.        ]\n",
            "States have length: 37\n"
          ]
        }
      ]
    },
    {
      "cell_type": "markdown",
      "source": [
        "**3.Defining the Agent, NN and train function**"
      ],
      "metadata": {
        "id": "hwpDVOn4FufK"
      }
    },
    {
      "cell_type": "code",
      "source": [
        "import torch\n",
        "import torch.nn as nn\n",
        "import torch.nn.functional as F\n",
        "\n",
        "\n",
        "BUFFER_SIZE = int(1000) # replay buffer size\n",
        "BATCH_SIZE = 32         # minibatch size\n",
        "GAMMA = 0.99            # discount factor\n",
        "TAU = 1e-3              # for soft update of target parameters\n",
        "UPDATE_EVERY = 4        # how often to update the network\n",
        "LR = 0.0005             # learning rate\n",
        "\n",
        "device = torch.device(\"cuda:0\" if torch.cuda.is_available() else \"cpu\")\n",
        "\n",
        "class DQNetwork(nn.Module):\n",
        "    \"\"\"Actor (Policy) Model.\"\"\"\n",
        "\n",
        "    def __init__(self, state_size, action_size, seed, fc1_units=64, fc2_units=64):\n",
        "        \"\"\"Initialize parameters and build model.\n",
        "        Params\n",
        "        ======\n",
        "            state_size (int): Dimension of each state\n",
        "            action_size (int): Dimension of each action\n",
        "            seed (int): Random seed\n",
        "            fc1_units (int): Number of nodes in first hidden layer\n",
        "            fc2_units (int): Number of nodes in second hidden layer\n",
        "        \"\"\"\n",
        "        super(DQNetwork, self).__init__()\n",
        "        self.seed = torch.manual_seed(seed)\n",
        "        self.fc1 = nn.Linear(state_size, fc1_units)\n",
        "        self.fc2 = nn.Linear(fc1_units, fc2_units)\n",
        "        self.fc3 = nn.Linear(fc2_units, action_size)\n",
        "\n",
        "    def forward(self, state):\n",
        "        \"\"\"Build a network that maps state -> action values.\"\"\"\n",
        "        x = F.relu(self.fc1(state))\n",
        "        x = F.relu(self.fc2(x))\n",
        "        return self.fc3(x)\n",
        "\n",
        "\n",
        "class Agent:\n",
        "\n",
        "    def __init__(self, state_size, action_size,learning_rate):\n",
        "\n",
        "        self.state_size = state_size\n",
        "        self.action_size = action_size\n",
        "\n",
        "        self.primary_dqn = DQNetwork(state_size, action_size, 34).to(device)\n",
        "        self.target_dqn = DQNetwork(state_size, action_size, 34).to(device)\n",
        "\n",
        "        self.optimizer = optim.Adam(self.primary_dqn.parameters(), lr=learning_rate)\n",
        "\n",
        "        # Replay memory\n",
        "        self.memory = ReplayBuffer(action_size, BUFFER_SIZE, BATCH_SIZE, 34)\n",
        "        # Initialize time step (for updating every UPDATE_EVERY steps)\n",
        "        self.t_step = 0\n",
        "\n",
        "\n",
        "\n",
        "    def step(self, state, action, reward, next_state, done):\n",
        "        # Save experience in replay memory\n",
        "        self.memory.add(state, action, reward, next_state, done)\n",
        "\n",
        "        # Learn every UPDATE_EVERY time steps.\n",
        "        self.t_step = (self.t_step + 1) % UPDATE_EVERY\n",
        "        if self.t_step == 0:\n",
        "            # If enough samples are available in memory, get random subset and learn\n",
        "            if len(self.memory) > BATCH_SIZE:\n",
        "                experiences = self.memory.sample()\n",
        "                self.learn(experiences, GAMMA)\n",
        "\n",
        "    def act(self, state, eps=0.):\n",
        "\n",
        "        if not isinstance(state, np.ndarray):\n",
        "          if isinstance(state, (int, float)):  # Assuming state can be a scalar\n",
        "            state = np.array([state])  # Adjust dimensions as needed\n",
        "          else:\n",
        "            raise ValueError(\"Expected state to be a numpy array or a scalar, got type {}\".format(type(state)))\n",
        "\n",
        "        state = torch.from_numpy(state).float().unsqueeze(0).to(device)\n",
        "        self.primary_dqn.eval()\n",
        "        with torch.no_grad():\n",
        "            action_values = self.primary_dqn(state)\n",
        "        self.primary_dqn.train()\n",
        "\n",
        "        # Epsilon-greedy action selection\n",
        "        if random.random() > eps:\n",
        "            return np.argmax(action_values.cpu().data.numpy())\n",
        "        else:\n",
        "            return random.choice(np.arange(self.action_size))\n",
        "\n",
        "\n",
        "    def learn(self, experiences, gamma):\n",
        "\n",
        "        states, actions, rewards, next_states, dones = experiences\n",
        "\n",
        "        # Get max predicted Q values (for next states) from target model\n",
        "        Q_targets_next = self.target_dqn(next_states).detach().max(1)[0].unsqueeze(1)\n",
        "        # Compute Q targets for current states\n",
        "        Q_targets = rewards + (gamma * Q_targets_next * (1 - dones))\n",
        "\n",
        "        # Get expected Q values from local model\n",
        "        Q_expected = self.primary_dqn(states).gather(1, actions)\n",
        "\n",
        "        # Compute loss\n",
        "        loss = F.mse_loss(Q_expected, Q_targets)\n",
        "        # Minimize the loss\n",
        "        self.optimizer.zero_grad()\n",
        "        loss.backward()\n",
        "        self.optimizer.step()\n",
        "\n",
        "        # ------------------- update target network ------------------- #\n",
        "        self.update_target(self.primary_dqn, self.target_dqn, TAU)\n",
        "\n",
        "    def update_target(self, local_model, target_model, tau):\n",
        "        for target_param, local_param in zip(target_model.parameters(), local_model.parameters()):\n",
        "            target_param.data.copy_(tau*local_param.data + (1.0-tau)*target_param.data)\n",
        "\n",
        "    def train(self,n_episodes=1500, max_t=1000, eps_start=1.0, eps_end=0.01, eps_decay=0.995):\n",
        "      scores = []                        # list containing scores from each episode\n",
        "      scores_window = deque(maxlen=100)  # last 100 scores\n",
        "      eps = eps_start                    # initialize epsilon\n",
        "      for i_episode in range(1, n_episodes+1):\n",
        "          env_info = env.reset(train_mode=True)[brain_name]\n",
        "          state = env_info.vector_observations[0]\n",
        "          score = 0\n",
        "          for t in range(max_t):\n",
        "              ## Get action from agent\n",
        "              action = self.act(state, eps)\n",
        "\n",
        "              ## Execute action and get env feedback info\n",
        "              env_info = env.step(action)[brain_name]\n",
        "\n",
        "              ## Retriving variables from observation vector\n",
        "              next_state = env_info.vector_observations[0]   # get the next state\n",
        "              reward = env_info.rewards[0]                   # get the reward\n",
        "              done = env_info.local_done[0]\n",
        "\n",
        "              self.step(state, action, reward, next_state, done)\n",
        "\n",
        "              state = next_state\n",
        "              score += reward\n",
        "              if done:\n",
        "                  break\n",
        "\n",
        "          scores_window.append(score)       # save most recent score\n",
        "          scores.append(score)              # save most recent score\n",
        "          eps = max(eps_end, eps_decay*eps) # decrease epsilon\n",
        "\n",
        "          print('\\rEpisode {}\\tAverage Score: {:.2f}'.format(i_episode, np.mean(scores_window)), end=\"\")\n",
        "          if i_episode % 100 == 0:\n",
        "              print('\\rEpisode {}\\tAverage Score: {:.2f}'.format(i_episode, np.mean(scores_window)))\n",
        "          if np.mean(scores_window)>=13:\n",
        "              print('\\nEnvironment solved in {:d} episodes!\\tAverage Score: {:.2f}'.format(i_episode-100, np.mean(scores_window)))\n",
        "              torch.save(self.primary_dqn.state_dict(), 'model_best.pth')\n",
        "              break\n",
        "      return scores\n",
        "\n",
        "class ReplayBuffer:\n",
        "    \"\"\"Fixed-size buffer to store experience tuples.\"\"\"\n",
        "\n",
        "    def __init__(self, action_size, buffer_size, batch_size, seed):\n",
        "        \"\"\"Initialize a ReplayBuffer object.\n",
        "        Params\n",
        "        ======\n",
        "            action_size (int): dimension of each action\n",
        "            buffer_size (int): maximum size of buffer\n",
        "            batch_size (int): size of each training batch\n",
        "            seed (int): random seed\n",
        "        \"\"\"\n",
        "        self.action_size = action_size\n",
        "        self.memory = deque(maxlen=buffer_size)\n",
        "        self.batch_size = batch_size\n",
        "        self.experience = namedtuple(\"Experience\", field_names=[\"state\", \"action\", \"reward\", \"next_state\", \"done\"])\n",
        "        self.seed = random.seed(seed)\n",
        "\n",
        "    def add(self, state, action, reward, next_state, done):\n",
        "        \"\"\"Add a new experience to memory.\"\"\"\n",
        "        e = self.experience(state, action, reward, next_state, done)\n",
        "        self.memory.append(e)\n",
        "\n",
        "    def sample(self):\n",
        "        \"\"\"Randomly sample a batch of experiences from memory.\"\"\"\n",
        "        experiences = random.sample(self.memory, k=self.batch_size)\n",
        "\n",
        "        states = torch.from_numpy(np.vstack([e.state for e in experiences if e is not None])).float().to(device)\n",
        "        actions = torch.from_numpy(np.vstack([e.action for e in experiences if e is not None])).long().to(device)\n",
        "        rewards = torch.from_numpy(np.vstack([e.reward for e in experiences if e is not None])).float().to(device)\n",
        "        next_states = torch.from_numpy(np.vstack([e.next_state for e in experiences if e is not None])).float().to(device)\n",
        "        dones = torch.from_numpy(np.vstack([e.done for e in experiences if e is not None]).astype(np.uint8)).float().to(device)\n",
        "\n",
        "        return (states, actions, rewards, next_states, dones)\n",
        "\n",
        "    def __len__(self):\n",
        "        \"\"\"Return the current size of internal memory.\"\"\"\n",
        "        return len(self.memory)\n",
        ""
      ],
      "metadata": {
        "id": "SQZkcSV3Fwx7"
      },
      "execution_count": 60,
      "outputs": []
    },
    {
      "cell_type": "markdown",
      "source": [
        "**4. Training NN**"
      ],
      "metadata": {
        "id": "St0LAH70RnTV"
      }
    },
    {
      "cell_type": "code",
      "source": [
        "agent = Agent(state_size=37, action_size=4, learning_rate=LR)\n",
        "scores = agent.train(n_episodes=1000, max_t=1000, eps_start=1.0, eps_end=0.01, eps_decay=0.995)"
      ],
      "metadata": {
        "colab": {
          "base_uri": "https://localhost:8080/"
        },
        "id": "4az3WXNXQegw",
        "outputId": "2a23c1e6-d4e5-4ffb-96ae-8c098174ab6b"
      },
      "execution_count": 61,
      "outputs": [
        {
          "output_type": "stream",
          "name": "stdout",
          "text": [
            "Episode 100\tAverage Score: 0.21\n",
            "Episode 200\tAverage Score: 2.49\n",
            "Episode 300\tAverage Score: 5.47\n",
            "Episode 400\tAverage Score: 8.73\n",
            "Episode 500\tAverage Score: 10.11\n",
            "Episode 600\tAverage Score: 9.84\n",
            "Episode 700\tAverage Score: 10.82\n",
            "Episode 800\tAverage Score: 11.42\n",
            "Episode 886\tAverage Score: 13.00\n",
            "Environment solved in 786 episodes!\tAverage Score: 13.00\n"
          ]
        }
      ]
    },
    {
      "cell_type": "markdown",
      "source": [
        "**5.Plot of Rewards**"
      ],
      "metadata": {
        "id": "1zSnAiYDRfn5"
      }
    },
    {
      "cell_type": "code",
      "source": [
        "fig = plt.figure()\n",
        "ax = fig.add_subplot(111)\n",
        "plt.plot(np.arange(len(scores)), scores)\n",
        "plt.ylabel('Score')\n",
        "plt.xlabel('Episode #')\n",
        "plt.savefig('training_best.png')\n",
        "plt.show()"
      ],
      "metadata": {
        "colab": {
          "base_uri": "https://localhost:8080/",
          "height": 451
        },
        "id": "4Zh7IGXdPlqR",
        "outputId": "c22eac38-0271-4ba7-fc5e-a7089e76f6a6"
      },
      "execution_count": 63,
      "outputs": [
        {
          "output_type": "display_data",
          "data": {
            "text/plain": [
              "<Figure size 640x480 with 1 Axes>"
            ],
            "image/png": "[encoded data removed]"
          },
          "metadata": {}
        }
      ]
    },
    {
      "cell_type": "markdown",
      "source": [
        "**6.When finished, you can close the environment.**"
      ],
      "metadata": {
        "id": "mGdch9TiRR3T"
      }
    },
    {
      "cell_type": "code",
      "source": [
        "env.close()"
      ],
      "metadata": {
        "id": "l-J-esrqRRCi"
      },
      "execution_count": null,
      "outputs": []
    },
    {
      "cell_type": "markdown",
      "source": [
        "**Project: Navigation Dueling DQN**"
      ],
      "metadata": {
        "id": "VMzbKO6XV9lZ"
      }
    },
    {
      "cell_type": "markdown",
      "source": [
        "**Ideas for Future Work**"
      ],
      "metadata": {
        "id": "UHpCLi1msZT4"
      }
    },
    {
      "cell_type": "markdown",
      "source": [
        "**Defining the Agent, NN and train function**"
      ],
      "metadata": {
        "id": "tBT5NnezWXFv"
      }
    },
    {
      "cell_type": "code",
      "source": [
        "import numpy as np\n",
        "import random\n",
        "import torch\n",
        "import torch.nn as nn\n",
        "import torch.optim as optim\n",
        "import torch.nn.functional as F\n",
        "from collections import deque, namedtuple\n",
        "\n",
        "\n",
        "BUFFER_SIZE = int(1000) # replay buffer size\n",
        "BATCH_SIZE = 32         # minibatch size\n",
        "GAMMA = 0.99            # discount factor\n",
        "TAU = 1e-3              # for soft update of target parameters\n",
        "UPDATE_EVERY = 4        # how often to update the network\n",
        "LR = 0.0005             # learning rate\n",
        "\n",
        "class DuelingDQNetwork(nn.Module):\n",
        "    \"\"\"Enhanced Dueling DQN Architecture.\"\"\"\n",
        "    def __init__(self, state_size, action_size, seed=34, fc1_units=128, fc2_units=128, fc3_units=64):\n",
        "        super(DuelingDQNetwork, self).__init__()\n",
        "        self.seed = torch.manual_seed(seed)\n",
        "\n",
        "        # Initial Linear layers\n",
        "        self.fc1 = nn.Linear(state_size, fc1_units)\n",
        "        self.fc2 = nn.Linear(fc1_units, fc2_units)\n",
        "        self.fc3 = nn.Linear(fc2_units, fc3_units)\n",
        "\n",
        "        # Batch Normalization\n",
        "        self.bn1 = nn.BatchNorm1d(fc1_units)\n",
        "        self.bn2 = nn.BatchNorm1d(fc2_units)\n",
        "        self.bn3 = nn.BatchNorm1d(fc3_units)\n",
        "\n",
        "        # Value stream\n",
        "        self.value_stream = nn.Sequential(\n",
        "            nn.Linear(fc3_units, fc3_units),\n",
        "            nn.ReLU(),\n",
        "            nn.Linear(fc3_units, 1)\n",
        "        )\n",
        "\n",
        "        # Advantage stream\n",
        "        self.advantage_stream = nn.Sequential(\n",
        "            nn.Linear(fc3_units, fc3_units),\n",
        "            nn.ReLU(),\n",
        "            nn.Linear(fc3_units, action_size)\n",
        "        )\n",
        "\n",
        "    def forward(self, state):\n",
        "        x = F.relu(self.bn1(self.fc1(state)))\n",
        "        x = F.relu(self.bn2(self.fc2(x)))\n",
        "        x = F.relu(self.bn3(self.fc3(x)))\n",
        "\n",
        "        value = self.value_stream(x)\n",
        "        advantages = self.advantage_stream(x)\n",
        "\n",
        "        # Combine the value and advantages to get the final Q-values\n",
        "        q_values = value + (advantages - advantages.mean(dim=1, keepdim=True))\n",
        "        return q_values\n",
        "\n",
        "class Agent:\n",
        "    def __init__(self, state_size, action_size, seed=34, learning_rate=5e-4):\n",
        "        self.state_size = state_size\n",
        "        self.action_size = action_size\n",
        "\n",
        "        self.device = torch.device(\"cuda:0\" if torch.cuda.is_available() else \"cpu\")\n",
        "\n",
        "        self.primary_dqn = DuelingDQNetwork(state_size, action_size, seed).to(self.device)\n",
        "        self.target_dqn = DuelingDQNetwork(state_size, action_size, seed).to(self.device)\n",
        "\n",
        "        self.optimizer = optim.Adam(self.primary_dqn.parameters(), lr=learning_rate)\n",
        "\n",
        "        # Replay memory\n",
        "        self.memory = ReplayBuffer(action_size, BUFFER_SIZE, BATCH_SIZE, seed)\n",
        "        self.t_step = 0\n",
        "\n",
        "    def step(self, state, action, reward, next_state, done):\n",
        "        self.memory.add(state, action, reward, next_state, done)\n",
        "\n",
        "        self.t_step = (self.t_step + 1) % UPDATE_EVERY\n",
        "        if self.t_step == 0 and len(self.memory) > BATCH_SIZE:\n",
        "            experiences = self.memory.sample()\n",
        "            self.learn(experiences, GAMMA)\n",
        "\n",
        "    def act(self, state, eps=0.):\n",
        "        state = torch.from_numpy(state).float().unsqueeze(0).to(self.device)\n",
        "        self.primary_dqn.eval()\n",
        "        with torch.no_grad():\n",
        "            action_values = self.primary_dqn(state)\n",
        "        self.primary_dqn.train()\n",
        "\n",
        "        if random.random() > eps:\n",
        "            return np.argmax(action_values.cpu().data.numpy())\n",
        "        else:\n",
        "            return random.choice(np.arange(self.action_size))\n",
        "\n",
        "    def learn(self, experiences, gamma):\n",
        "        states, actions, rewards, next_states, dones = experiences\n",
        "\n",
        "        Q_targets_next = self.target_dqn(next_states).detach().max(1)[0].unsqueeze(1)\n",
        "        Q_targets = rewards + (gamma * Q_targets_next * (1 - dones))\n",
        "        Q_expected = self.primary_dqn(states).gather(1, actions)\n",
        "\n",
        "        loss = F.mse_loss(Q_expected, Q_targets)\n",
        "        self.optimizer.zero_grad()\n",
        "        loss.backward()\n",
        "        self.optimizer.step()\n",
        "\n",
        "        self.update_target(self.primary_dqn, self.target_dqn, TAU)\n",
        "\n",
        "    def update_target(self, local_model, target_model, tau):\n",
        "        for target_param, local_param in zip(target_model.parameters(), local_model.parameters()):\n",
        "            target_param.data.copy_(tau*local_param.data + (1.0-tau)*target_param.data)\n",
        "\n",
        "    def train(self,n_episodes=1500, max_t=1000, eps_start=1.0, eps_end=0.01, eps_decay=0.995):\n",
        "      scores = []                        # list containing scores from each episode\n",
        "      scores_window = deque(maxlen=100)  # last 100 scores\n",
        "      eps = eps_start                    # initialize epsilon\n",
        "      for i_episode in range(1, n_episodes+1):\n",
        "          env_info = env.reset(train_mode=True)[brain_name]\n",
        "          state = env_info.vector_observations[0]\n",
        "          score = 0\n",
        "          for t in range(max_t):\n",
        "              ## Get action from agent\n",
        "              action = self.act(state, eps)\n",
        "\n",
        "              ## Execute action and get env feedback info\n",
        "              env_info = env.step(action)[brain_name]\n",
        "\n",
        "              ## Retriving variables from observation vector\n",
        "              next_state = env_info.vector_observations[0]   # get the next state\n",
        "              reward = env_info.rewards[0]                   # get the reward\n",
        "              done = env_info.local_done[0]\n",
        "\n",
        "              self.step(state, action, reward, next_state, done)\n",
        "\n",
        "              state = next_state\n",
        "              score += reward\n",
        "              if done:\n",
        "                  break\n",
        "\n",
        "          scores_window.append(score)       # save most recent score\n",
        "          scores.append(score)              # save most recent score\n",
        "          eps = max(eps_end, eps_decay*eps) # decrease epsilon\n",
        "\n",
        "          print('\\rEpisode {}\\tAverage Score: {:.2f}'.format(i_episode, np.mean(scores_window)), end=\"\")\n",
        "          if i_episode % 100 == 0:\n",
        "              print('\\rEpisode {}\\tAverage Score: {:.2f}'.format(i_episode, np.mean(scores_window)))\n",
        "          if np.mean(scores_window)>=13:\n",
        "              print('\\nEnvironment solved in {:d} episodes!\\tAverage Score: {:.2f}'.format(i_episode-100, np.mean(scores_window)))\n",
        "              torch.save(self.primary_dqn.state_dict(), 'model_best.pth')\n",
        "              break\n",
        "      return scores\n",
        "\n",
        "class ReplayBuffer:\n",
        "    \"\"\"Fixed-size buffer to store experience tuples.\"\"\"\n",
        "\n",
        "    def __init__(self, action_size, buffer_size, batch_size, seed):\n",
        "        \"\"\"Initialize a ReplayBuffer object.\n",
        "        Params\n",
        "        ======\n",
        "            action_size (int): dimension of each action\n",
        "            buffer_size (int): maximum size of buffer\n",
        "            batch_size (int): size of each training batch\n",
        "            seed (int): random seed\n",
        "        \"\"\"\n",
        "        self.action_size = action_size\n",
        "        self.memory = deque(maxlen=buffer_size)\n",
        "        self.batch_size = batch_size\n",
        "        self.experience = namedtuple(\"Experience\", field_names=[\"state\", \"action\", \"reward\", \"next_state\", \"done\"])\n",
        "        self.seed = random.seed(seed)\n",
        "\n",
        "    def add(self, state, action, reward, next_state, done):\n",
        "        \"\"\"Add a new experience to memory.\"\"\"\n",
        "        e = self.experience(state, action, reward, next_state, done)\n",
        "        self.memory.append(e)\n",
        "\n",
        "    def sample(self):\n",
        "        \"\"\"Randomly sample a batch of experiences from memory.\"\"\"\n",
        "        experiences = random.sample(self.memory, k=self.batch_size)\n",
        "\n",
        "        states = torch.from_numpy(np.vstack([e.state for e in experiences if e is not None])).float().to(device)\n",
        "        actions = torch.from_numpy(np.vstack([e.action for e in experiences if e is not None])).long().to(device)\n",
        "        rewards = torch.from_numpy(np.vstack([e.reward for e in experiences if e is not None])).float().to(device)\n",
        "        next_states = torch.from_numpy(np.vstack([e.next_state for e in experiences if e is not None])).float().to(device)\n",
        "        dones = torch.from_numpy(np.vstack([e.done for e in experiences if e is not None]).astype(np.uint8)).float().to(device)\n",
        "\n",
        "        return (states, actions, rewards, next_states, dones)\n",
        "\n",
        "    def __len__(self):\n",
        "        \"\"\"Return the current size of internal memory.\"\"\"\n",
        "        return len(self.memory)\n",
        "\n"
      ],
      "metadata": {
        "id": "i8I57thmWF9B"
      },
      "execution_count": 76,
      "outputs": []
    },
    {
      "cell_type": "markdown",
      "source": [
        "**Training NN**"
      ],
      "metadata": {
        "id": "W0PgRaG5Wi4Z"
      }
    },
    {
      "cell_type": "code",
      "source": [
        "agent = Agent(state_size=37, action_size=4, learning_rate=LR)\n",
        "scores = agent.train(n_episodes=1000, max_t=1000, eps_start=1.0, eps_end=0.01, eps_decay=0.995)"
      ],
      "metadata": {
        "colab": {
          "base_uri": "https://localhost:8080/"
        },
        "id": "cbvlchhtWd8J",
        "outputId": "b242a6bd-79ed-49f8-e72b-92a31f72d8cb"
      },
      "execution_count": 77,
      "outputs": [
        {
          "output_type": "stream",
          "name": "stdout",
          "text": [
            "Episode 100\tAverage Score: 0.54\n",
            "Episode 200\tAverage Score: 2.67\n",
            "Episode 300\tAverage Score: 5.51\n",
            "Episode 400\tAverage Score: 8.58\n",
            "Episode 500\tAverage Score: 10.63\n",
            "Episode 600\tAverage Score: 10.28\n",
            "Episode 670\tAverage Score: 13.07\n",
            "Environment solved in 570 episodes!\tAverage Score: 13.07\n"
          ]
        }
      ]
    },
    {
      "cell_type": "markdown",
      "source": [
        "**Plot of Rewards**"
      ],
      "metadata": {
        "id": "9-hpsH09eKRh"
      }
    },
    {
      "cell_type": "code",
      "source": [
        "fig = plt.figure()\n",
        "ax = fig.add_subplot(111)\n",
        "plt.plot(np.arange(len(scores)), scores)\n",
        "plt.ylabel('Score')\n",
        "plt.xlabel('Episode #')\n",
        "plt.savefig('training_best.png')\n",
        "plt.show()"
      ],
      "metadata": {
        "colab": {
          "base_uri": "https://localhost:8080/",
          "height": 449
        },
        "id": "Gtdp-AqneG-b",
        "outputId": "ac00f028-0434-4b4d-c9b5-ef11c498992c"
      },
      "execution_count": 78,
      "outputs": [
        {
          "output_type": "display_data",
          "data": {
            "text/plain": [
              "<Figure size 640x480 with 1 Axes>"
            ],
            "image/png": "[encoded data removed]"
          },
          "metadata": {}
        }
      ]
    },
    {
      "cell_type": "markdown",
      "source": [
        "**When finished, you can close the environment**"
      ],
      "metadata": {
        "id": "gV7cNiPWsj3I"
      }
    },
    {
      "cell_type": "code",
      "source": [
        "env.close()"
      ],
      "metadata": {
        "id": "Uv-nVzztsmp_"
      },
      "execution_count": null,
      "outputs": []
    }
  ]
}